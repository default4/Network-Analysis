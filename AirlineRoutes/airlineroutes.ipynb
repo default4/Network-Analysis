{
 "cells": [
  {
   "cell_type": "code",
   "execution_count": 1,
   "id": "7836c547",
   "metadata": {},
   "outputs": [],
   "source": [
    "import networkx as nx\n",
    "import pandas as pd\n",
    "import requests\n",
    "from io import StringIO\n",
    "import matplotlib.pyplot as plt"
   ]
  },
  {
   "cell_type": "code",
   "execution_count": 2,
   "id": "f16d4d0d",
   "metadata": {},
   "outputs": [],
   "source": [
    "AIRPORTS_URL = \"https://raw.githubusercontent.com/jpatokal/openflights/master/data/airports.dat\"\n",
    "ROUTES_URL = \"https://raw.githubusercontent.com/jpatokal/openflights/master/data/routes.dat\""
   ]
  },
  {
   "cell_type": "code",
   "execution_count": 3,
   "id": "a46ec1f3",
   "metadata": {},
   "outputs": [],
   "source": [
    "def load_data():\n",
    "    airports_data = requests.get(AIRPORTS_URL).text\n",
    "    routes_data = requests.get(ROUTES_URL).text\n",
    "\n",
    "    airports_df = pd.read_csv(StringIO(airports_data), header=None, names=['id', 'name', 'city', 'country', 'IATA', 'ICAO', 'latitude', 'longitude', 'altitude', 'timezone', 'DST', 'tz', 'type', 'source'])\n",
    "    routes_df = pd.read_csv(StringIO(routes_data), header=None, names=['airline', 'airline_id', 'source', 'source_id', 'dest', 'dest_id', 'codeshare', 'stops', 'equipment'])\n",
    "\n",
    "    return airports_df, routes_df"
   ]
  },
  {
   "cell_type": "code",
   "execution_count": 4,
   "id": "ceaf2fda",
   "metadata": {},
   "outputs": [],
   "source": [
    "def create_network(airports_df, routes_df):\n",
    "    G = nx.DiGraph()\n",
    "\n",
    "    for _, row in airports_df.iterrows():\n",
    "        G.add_node(row['IATA'], name=row['name'], country=row['country'])\n",
    "\n",
    "    for _, row in routes_df.iterrows():\n",
    "        if row['source'] in G.nodes() and row['dest'] in G.nodes():\n",
    "            G.add_edge(row['source'], row['dest'])\n",
    "\n",
    "    return G"
   ]
  },
  {
   "cell_type": "code",
   "execution_count": 5,
   "id": "a46c0ab6",
   "metadata": {},
   "outputs": [],
   "source": [
    "def analyze_centrality_measures(G):\n",
    "    degree_centrality = nx.degree_centrality(G)\n",
    "    betweenness_centrality = nx.betweenness_centrality(G)\n",
    "    closeness_centrality = nx.closeness_centrality(G)\n",
    "\n",
    "    return degree_centrality, betweenness_centrality, closeness_centrality"
   ]
  },
  {
   "cell_type": "code",
   "execution_count": 6,
   "id": "4c3ba5d1",
   "metadata": {},
   "outputs": [],
   "source": [
    "def main():\n",
    "    airports_df, routes_df = load_data()\n",
    "    G = create_network(airports_df, routes_df)\n",
    "    degree_centrality, betweenness_centrality, closeness_centrality = analyze_centrality_measures(G)\n",
    "\n",
    "    print(\"Top 10 airports by degree centrality:\")\n",
    "    for airport, centrality in sorted(degree_centrality.items(), key=lambda x: x[1], reverse=True)[:10]:\n",
    "        print(f\"{airport}: {G.nodes[airport]['name']}\")\n",
    "\n",
    "    print(\"\\nTop 10 airports by betweenness centrality:\")\n",
    "    for airport, centrality in sorted(betweenness_centrality.items(), key=lambda x: x[1], reverse=True)[:10]:\n",
    "        print(f\"{airport}: {G.nodes[airport]['name']}\")\n",
    "\n",
    "    print(\"\\nTop 10 airports by clos eness centrality:\")\n",
    "    \n",
    "    for airport, centrality in sorted(closeness_centrality.items(), key=lambda x: x[1], reverse=True)[:10]:\n",
    "        print(f\"{airport}: {G.nodes[airport]['name']}\")"
   ]
  },
  {
   "cell_type": "code",
   "execution_count": 7,
   "id": "17eb1795",
   "metadata": {},
   "outputs": [
    {
     "name": "stdout",
     "output_type": "stream",
     "text": [
      "Top 10 airports by degree centrality:\n",
      "FRA: Frankfurt am Main Airport\n",
      "CDG: Charles de Gaulle International Airport\n",
      "AMS: Amsterdam Airport Schiphol\n",
      "IST: Istanbul Airport\n",
      "ATL: Hartsfield Jackson Atlanta International Airport\n",
      "ORD: Chicago O'Hare International Airport\n",
      "PEK: Beijing Capital International Airport\n",
      "MUC: Munich Airport\n",
      "DME: Domodedovo International Airport\n",
      "DFW: Dallas Fort Worth International Airport\n",
      "\n",
      "Top 10 airports by betweenness centrality:\n",
      "CDG: Charles de Gaulle International Airport\n",
      "LAX: Los Angeles International Airport\n",
      "DXB: Dubai International Airport\n",
      "ANC: Ted Stevens Anchorage International Airport\n",
      "FRA: Frankfurt am Main Airport\n",
      "PEK: Beijing Capital International Airport\n",
      "ORD: Chicago O'Hare International Airport\n",
      "YYZ: Lester B. Pearson International Airport\n",
      "AMS: Amsterdam Airport Schiphol\n",
      "IST: Istanbul Airport\n",
      "\n",
      "Top 10 airports by clos eness centrality:\n",
      "FRA: Frankfurt am Main Airport\n",
      "CDG: Charles de Gaulle International Airport\n",
      "LHR: London Heathrow Airport\n",
      "DXB: Dubai International Airport\n",
      "AMS: Amsterdam Airport Schiphol\n",
      "LAX: Los Angeles International Airport\n",
      "JFK: John F Kennedy International Airport\n",
      "IST: Istanbul Airport\n",
      "YYZ: Lester B. Pearson International Airport\n",
      "MUC: Munich Airport\n"
     ]
    }
   ],
   "source": [
    "if __name__ == '__main__':\n",
    "    main()"
   ]
  },
  {
   "cell_type": "code",
   "execution_count": null,
   "id": "e329e804",
   "metadata": {},
   "outputs": [],
   "source": []
  }
 ],
 "metadata": {
  "kernelspec": {
   "display_name": "Python 3 (ipykernel)",
   "language": "python",
   "name": "python3"
  },
  "language_info": {
   "codemirror_mode": {
    "name": "ipython",
    "version": 3
   },
   "file_extension": ".py",
   "mimetype": "text/x-python",
   "name": "python",
   "nbconvert_exporter": "python",
   "pygments_lexer": "ipython3",
   "version": "3.9.12"
  }
 },
 "nbformat": 4,
 "nbformat_minor": 5
}
